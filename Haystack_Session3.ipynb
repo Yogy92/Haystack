{
  "cells": [
    {
      "cell_type": "markdown",
      "source": [
        "# Haystack Building Blocks"
      ],
      "metadata": {
        "id": "yBGyNWSKpxsx"
      }
    },
    {
      "cell_type": "markdown",
      "metadata": {
        "id": "Kww5B_vXO-qZ"
      },
      "source": [
        "## Installing Haystack\n",
        "\n",
        "Install Haystack and other required packages with `pip`:"
      ]
    },
    {
      "cell_type": "code",
      "source": [
        "!pip install haystack-ai\n",
        "!pip install trafilatura"
      ],
      "metadata": {
        "id": "JmXiemdmFY0B",
        "colab": {
          "base_uri": "https://localhost:8080/",
          "height": 1000
        },
        "outputId": "7a6e022b-e48d-4d7d-876c-48e2a6450b4c"
      },
      "execution_count": null,
      "outputs": [
        {
          "output_type": "stream",
          "name": "stdout",
          "text": [
            "Collecting haystack-ai\n",
            "  Downloading haystack_ai-2.9.0-py3-none-any.whl.metadata (13 kB)\n",
            "Collecting haystack-experimental (from haystack-ai)\n",
            "  Downloading haystack_experimental-0.5.0-py3-none-any.whl.metadata (15 kB)\n",
            "Requirement already satisfied: jinja2 in /usr/local/lib/python3.10/dist-packages (from haystack-ai) (3.1.4)\n",
            "Collecting lazy-imports (from haystack-ai)\n",
            "  Downloading lazy_imports-0.4.0-py3-none-any.whl.metadata (10 kB)\n",
            "Requirement already satisfied: more-itertools in /usr/local/lib/python3.10/dist-packages (from haystack-ai) (10.5.0)\n",
            "Requirement already satisfied: networkx in /usr/local/lib/python3.10/dist-packages (from haystack-ai) (3.4.2)\n",
            "Requirement already satisfied: numpy in /usr/local/lib/python3.10/dist-packages (from haystack-ai) (1.26.4)\n",
            "Requirement already satisfied: openai>=1.56.1 in /usr/local/lib/python3.10/dist-packages (from haystack-ai) (1.57.4)\n",
            "Requirement already satisfied: pandas in /usr/local/lib/python3.10/dist-packages (from haystack-ai) (2.2.2)\n",
            "Collecting posthog (from haystack-ai)\n",
            "  Downloading posthog-3.11.0-py2.py3-none-any.whl.metadata (2.9 kB)\n",
            "Requirement already satisfied: pydantic in /usr/local/lib/python3.10/dist-packages (from haystack-ai) (2.10.3)\n",
            "Requirement already satisfied: python-dateutil in /usr/local/lib/python3.10/dist-packages (from haystack-ai) (2.8.2)\n",
            "Requirement already satisfied: pyyaml in /usr/local/lib/python3.10/dist-packages (from haystack-ai) (6.0.2)\n",
            "Requirement already satisfied: requests in /usr/local/lib/python3.10/dist-packages (from haystack-ai) (2.32.3)\n",
            "Requirement already satisfied: tenacity!=8.4.0 in /usr/local/lib/python3.10/dist-packages (from haystack-ai) (9.0.0)\n",
            "Requirement already satisfied: tqdm in /usr/local/lib/python3.10/dist-packages (from haystack-ai) (4.67.1)\n",
            "Requirement already satisfied: typing-extensions>=4.7 in /usr/local/lib/python3.10/dist-packages (from haystack-ai) (4.12.2)\n",
            "Requirement already satisfied: anyio<5,>=3.5.0 in /usr/local/lib/python3.10/dist-packages (from openai>=1.56.1->haystack-ai) (3.7.1)\n",
            "Requirement already satisfied: distro<2,>=1.7.0 in /usr/local/lib/python3.10/dist-packages (from openai>=1.56.1->haystack-ai) (1.9.0)\n",
            "Requirement already satisfied: httpx<1,>=0.23.0 in /usr/local/lib/python3.10/dist-packages (from openai>=1.56.1->haystack-ai) (0.28.1)\n",
            "Requirement already satisfied: jiter<1,>=0.4.0 in /usr/local/lib/python3.10/dist-packages (from openai>=1.56.1->haystack-ai) (0.8.2)\n",
            "Requirement already satisfied: sniffio in /usr/local/lib/python3.10/dist-packages (from openai>=1.56.1->haystack-ai) (1.3.1)\n",
            "Requirement already satisfied: annotated-types>=0.6.0 in /usr/local/lib/python3.10/dist-packages (from pydantic->haystack-ai) (0.7.0)\n",
            "Requirement already satisfied: pydantic-core==2.27.1 in /usr/local/lib/python3.10/dist-packages (from pydantic->haystack-ai) (2.27.1)\n",
            "Requirement already satisfied: MarkupSafe>=2.0 in /usr/local/lib/python3.10/dist-packages (from jinja2->haystack-ai) (3.0.2)\n",
            "Requirement already satisfied: pytz>=2020.1 in /usr/local/lib/python3.10/dist-packages (from pandas->haystack-ai) (2024.2)\n",
            "Requirement already satisfied: tzdata>=2022.7 in /usr/local/lib/python3.10/dist-packages (from pandas->haystack-ai) (2024.2)\n",
            "Requirement already satisfied: six>=1.5 in /usr/local/lib/python3.10/dist-packages (from python-dateutil->haystack-ai) (1.17.0)\n",
            "Collecting monotonic>=1.5 (from posthog->haystack-ai)\n",
            "  Downloading monotonic-1.6-py2.py3-none-any.whl.metadata (1.5 kB)\n",
            "Collecting backoff>=1.10.0 (from posthog->haystack-ai)\n",
            "  Downloading backoff-2.2.1-py3-none-any.whl.metadata (14 kB)\n",
            "Requirement already satisfied: charset-normalizer<4,>=2 in /usr/local/lib/python3.10/dist-packages (from requests->haystack-ai) (3.4.0)\n",
            "Requirement already satisfied: idna<4,>=2.5 in /usr/local/lib/python3.10/dist-packages (from requests->haystack-ai) (3.10)\n",
            "Requirement already satisfied: urllib3<3,>=1.21.1 in /usr/local/lib/python3.10/dist-packages (from requests->haystack-ai) (2.2.3)\n",
            "Requirement already satisfied: certifi>=2017.4.17 in /usr/local/lib/python3.10/dist-packages (from requests->haystack-ai) (2024.12.14)\n",
            "Requirement already satisfied: exceptiongroup in /usr/local/lib/python3.10/dist-packages (from anyio<5,>=3.5.0->openai>=1.56.1->haystack-ai) (1.2.2)\n",
            "Requirement already satisfied: httpcore==1.* in /usr/local/lib/python3.10/dist-packages (from httpx<1,>=0.23.0->openai>=1.56.1->haystack-ai) (1.0.7)\n",
            "Requirement already satisfied: h11<0.15,>=0.13 in /usr/local/lib/python3.10/dist-packages (from httpcore==1.*->httpx<1,>=0.23.0->openai>=1.56.1->haystack-ai) (0.14.0)\n",
            "Downloading haystack_ai-2.9.0-py3-none-any.whl (419 kB)\n",
            "\u001b[2K   \u001b[90m━━━━━━━━━━━━━━━━━━━━━━━━━━━━━━━━━━━━━━━━\u001b[0m \u001b[32m419.2/419.2 kB\u001b[0m \u001b[31m15.8 MB/s\u001b[0m eta \u001b[36m0:00:00\u001b[0m\n",
            "\u001b[?25hDownloading haystack_experimental-0.5.0-py3-none-any.whl (95 kB)\n",
            "\u001b[2K   \u001b[90m━━━━━━━━━━━━━━━━━━━━━━━━━━━━━━━━━━━━━━━━\u001b[0m \u001b[32m95.1/95.1 kB\u001b[0m \u001b[31m5.5 MB/s\u001b[0m eta \u001b[36m0:00:00\u001b[0m\n",
            "\u001b[?25hDownloading lazy_imports-0.4.0-py3-none-any.whl (12 kB)\n",
            "Downloading posthog-3.11.0-py2.py3-none-any.whl (72 kB)\n",
            "\u001b[2K   \u001b[90m━━━━━━━━━━━━━━━━━━━━━━━━━━━━━━━━━━━━━━━━\u001b[0m \u001b[32m72.0/72.0 kB\u001b[0m \u001b[31m4.4 MB/s\u001b[0m eta \u001b[36m0:00:00\u001b[0m\n",
            "\u001b[?25hDownloading backoff-2.2.1-py3-none-any.whl (15 kB)\n",
            "Downloading monotonic-1.6-py2.py3-none-any.whl (8.2 kB)\n",
            "Installing collected packages: monotonic, lazy-imports, backoff, posthog, haystack-experimental, haystack-ai\n",
            "Successfully installed backoff-2.2.1 haystack-ai-2.9.0 haystack-experimental-0.5.0 lazy-imports-0.4.0 monotonic-1.6 posthog-3.11.0\n",
            "Collecting trafilatura\n",
            "  Downloading trafilatura-2.0.0-py3-none-any.whl.metadata (12 kB)\n",
            "Requirement already satisfied: certifi in /usr/local/lib/python3.10/dist-packages (from trafilatura) (2024.12.14)\n",
            "Requirement already satisfied: charset_normalizer>=3.4.0 in /usr/local/lib/python3.10/dist-packages (from trafilatura) (3.4.0)\n",
            "Collecting courlan>=1.3.2 (from trafilatura)\n",
            "  Downloading courlan-1.3.2-py3-none-any.whl.metadata (17 kB)\n",
            "Collecting htmldate>=1.9.2 (from trafilatura)\n",
            "  Downloading htmldate-1.9.3-py3-none-any.whl.metadata (10 kB)\n",
            "Collecting justext>=3.0.1 (from trafilatura)\n",
            "  Downloading jusText-3.0.1-py2.py3-none-any.whl.metadata (6.9 kB)\n",
            "Requirement already satisfied: lxml>=5.3.0 in /usr/local/lib/python3.10/dist-packages (from trafilatura) (5.3.0)\n",
            "Requirement already satisfied: urllib3<3,>=1.26 in /usr/local/lib/python3.10/dist-packages (from trafilatura) (2.2.3)\n",
            "Requirement already satisfied: babel>=2.16.0 in /usr/local/lib/python3.10/dist-packages (from courlan>=1.3.2->trafilatura) (2.16.0)\n",
            "Collecting tld>=0.13 (from courlan>=1.3.2->trafilatura)\n",
            "  Downloading tld-0.13-py2.py3-none-any.whl.metadata (9.4 kB)\n",
            "Collecting dateparser>=1.1.2 (from htmldate>=1.9.2->trafilatura)\n",
            "  Downloading dateparser-1.2.1-py3-none-any.whl.metadata (29 kB)\n",
            "Collecting python-dateutil>=2.9.0.post0 (from htmldate>=1.9.2->trafilatura)\n",
            "  Downloading python_dateutil-2.9.0.post0-py2.py3-none-any.whl.metadata (8.4 kB)\n",
            "Requirement already satisfied: pytz>=2024.2 in /usr/local/lib/python3.10/dist-packages (from dateparser>=1.1.2->htmldate>=1.9.2->trafilatura) (2024.2)\n",
            "Requirement already satisfied: regex!=2019.02.19,!=2021.8.27,>=2015.06.24 in /usr/local/lib/python3.10/dist-packages (from dateparser>=1.1.2->htmldate>=1.9.2->trafilatura) (2024.11.6)\n",
            "Requirement already satisfied: tzlocal>=0.2 in /usr/local/lib/python3.10/dist-packages (from dateparser>=1.1.2->htmldate>=1.9.2->trafilatura) (5.2)\n",
            "Collecting lxml-html-clean (from lxml[html_clean]>=4.4.2->justext>=3.0.1->trafilatura)\n",
            "  Downloading lxml_html_clean-0.4.1-py3-none-any.whl.metadata (2.4 kB)\n",
            "Requirement already satisfied: six>=1.5 in /usr/local/lib/python3.10/dist-packages (from python-dateutil>=2.9.0.post0->htmldate>=1.9.2->trafilatura) (1.17.0)\n",
            "Downloading trafilatura-2.0.0-py3-none-any.whl (132 kB)\n",
            "\u001b[2K   \u001b[90m━━━━━━━━━━━━━━━━━━━━━━━━━━━━━━━━━━━━━━━━\u001b[0m \u001b[32m132.6/132.6 kB\u001b[0m \u001b[31m8.4 MB/s\u001b[0m eta \u001b[36m0:00:00\u001b[0m\n",
            "\u001b[?25hDownloading courlan-1.3.2-py3-none-any.whl (33 kB)\n",
            "Downloading htmldate-1.9.3-py3-none-any.whl (31 kB)\n",
            "Downloading jusText-3.0.1-py2.py3-none-any.whl (837 kB)\n",
            "\u001b[2K   \u001b[90m━━━━━━━━━━━━━━━━━━━━━━━━━━━━━━━━━━━━━━━━\u001b[0m \u001b[32m837.8/837.8 kB\u001b[0m \u001b[31m38.7 MB/s\u001b[0m eta \u001b[36m0:00:00\u001b[0m\n",
            "\u001b[?25hDownloading dateparser-1.2.1-py3-none-any.whl (295 kB)\n",
            "\u001b[2K   \u001b[90m━━━━━━━━━━━━━━━━━━━━━━━━━━━━━━━━━━━━━━━━\u001b[0m \u001b[32m295.7/295.7 kB\u001b[0m \u001b[31m17.6 MB/s\u001b[0m eta \u001b[36m0:00:00\u001b[0m\n",
            "\u001b[?25hDownloading python_dateutil-2.9.0.post0-py2.py3-none-any.whl (229 kB)\n",
            "\u001b[2K   \u001b[90m━━━━━━━━━━━━━━━━━━━━━━━━━━━━━━━━━━━━━━━━\u001b[0m \u001b[32m229.9/229.9 kB\u001b[0m \u001b[31m17.9 MB/s\u001b[0m eta \u001b[36m0:00:00\u001b[0m\n",
            "\u001b[?25hDownloading tld-0.13-py2.py3-none-any.whl (263 kB)\n",
            "\u001b[2K   \u001b[90m━━━━━━━━━━━━━━━━━━━━━━━━━━━━━━━━━━━━━━━━\u001b[0m \u001b[32m263.8/263.8 kB\u001b[0m \u001b[31m21.3 MB/s\u001b[0m eta \u001b[36m0:00:00\u001b[0m\n",
            "\u001b[?25hDownloading lxml_html_clean-0.4.1-py3-none-any.whl (14 kB)\n",
            "Installing collected packages: tld, python-dateutil, lxml-html-clean, dateparser, courlan, justext, htmldate, trafilatura\n",
            "  Attempting uninstall: python-dateutil\n",
            "    Found existing installation: python-dateutil 2.8.2\n",
            "    Uninstalling python-dateutil-2.8.2:\n",
            "      Successfully uninstalled python-dateutil-2.8.2\n",
            "Successfully installed courlan-1.3.2 dateparser-1.2.1 htmldate-1.9.3 justext-3.0.1 lxml-html-clean-0.4.1 python-dateutil-2.9.0.post0 tld-0.13 trafilatura-2.0.0\n"
          ]
        },
        {
          "output_type": "display_data",
          "data": {
            "application/vnd.colab-display-data+json": {
              "pip_warning": {
                "packages": [
                  "dateutil"
                ]
              },
              "id": "b31cb91944a446cfbfcd5a75bada4716"
            }
          },
          "metadata": {}
        }
      ]
    },
    {
      "cell_type": "code",
      "source": [
        "import requests\n",
        "\n",
        "from typing import List\n",
        "\n",
        "from haystack import Document, Pipeline, component\n",
        "from haystack.components.builders import PromptBuilder\n",
        "from haystack.components.fetchers import LinkContentFetcher\n",
        "from haystack.components.converters import HTMLToDocument"
      ],
      "metadata": {
        "id": "L4qve-_m_hRl"
      },
      "execution_count": null,
      "outputs": []
    },
    {
      "cell_type": "markdown",
      "source": [
        "## Custom Component Requirements\n",
        "#### Build a Custom Component\n"
      ],
      "metadata": {
        "id": "lka340oxosgy"
      }
    },
    {
      "cell_type": "code",
      "source": [
        "@component\n",
        "class Greeter:\n",
        "\n",
        "    @component.output_types(greeting=str)\n",
        "    def run(self, user_name: str):\n",
        "        return {\"greeting\": f\"Hello {user_name}\"}"
      ],
      "metadata": {
        "id": "D461It8hHZ2x"
      },
      "execution_count": null,
      "outputs": []
    },
    {
      "cell_type": "code",
      "source": [
        "greeter = Greeter()\n",
        "\n",
        "greeter.run(user_name=\"Tuana\")"
      ],
      "metadata": {
        "colab": {
          "base_uri": "https://localhost:8080/"
        },
        "id": "mfZjXeR5HbjY",
        "outputId": "f4f28200-ac88-4b20-b9e9-0187077afaf7"
      },
      "execution_count": null,
      "outputs": [
        {
          "output_type": "execute_result",
          "data": {
            "text/plain": [
              "{'greeting': 'Hello Tuana'}"
            ]
          },
          "metadata": {},
          "execution_count": 3
        }
      ]
    },
    {
      "cell_type": "code",
      "source": [
        "from haystack.utils import Secret\n",
        "from google.colab import userdata"
      ],
      "metadata": {
        "id": "OFgVioVqIhZK"
      },
      "execution_count": null,
      "outputs": []
    },
    {
      "cell_type": "code",
      "source": [
        "from haystack.components.builders import ChatPromptBuilder\n"
      ],
      "metadata": {
        "id": "oADPRrMsI9Zc"
      },
      "execution_count": null,
      "outputs": []
    },
    {
      "cell_type": "code",
      "source": [
        "greeter = Greeter()\n",
        "from haystack.dataclasses import ChatMessage\n",
        "\n",
        "\n",
        "template = [\n",
        "    ChatMessage.from_user(\"\"\" You will be given the beginning of a dialogue.\n",
        "Create a short play script using this as the start of the play.\n",
        "Start of dialogue: {{ dialogue }}\n",
        "Full script:\n",
        "\"\"\"\n",
        "    )\n",
        "]\n",
        "\n",
        "\n",
        "prompt = ChatPromptBuilder(template=template)\n",
        "\n",
        "from haystack.components.generators.chat import AzureOpenAIChatGenerator\n",
        "\n",
        "llm = AzureOpenAIChatGenerator(\n",
        "    azure_endpoint=userdata.get('azure_endpoint'),\n",
        "    api_key=Secret.from_token(userdata.get('api_key')),\n",
        "    azure_deployment=\"gpt-35-turbo\"\n",
        ")\n",
        "\n",
        "\n",
        "dialogue_builder = Pipeline()\n",
        "dialogue_builder.add_component(\"greeter\", greeter)\n",
        "dialogue_builder.add_component(\"prompt\", prompt)\n",
        "dialogue_builder.add_component(\"llm\", llm)\n",
        "\n",
        "dialogue_builder.connect(\"greeter.greeting\", \"prompt.dialogue\")\n",
        "dialogue_builder.connect(\"prompt\", \"llm\")"
      ],
      "metadata": {
        "colab": {
          "base_uri": "https://localhost:8080/"
        },
        "id": "VA79hi7LHdWe",
        "outputId": "bd6dca74-691b-4efe-8f7e-beea87572763"
      },
      "execution_count": null,
      "outputs": [
        {
          "output_type": "execute_result",
          "data": {
            "text/plain": [
              "<haystack.core.pipeline.pipeline.Pipeline object at 0x7837dcfea620>\n",
              "🚅 Components\n",
              "  - greeter: Greeter\n",
              "  - prompt: ChatPromptBuilder\n",
              "  - llm: AzureOpenAIChatGenerator\n",
              "🛤️ Connections\n",
              "  - greeter.greeting -> prompt.dialogue (str)\n",
              "  - prompt.prompt -> llm.messages (List[ChatMessage])"
            ]
          },
          "metadata": {},
          "execution_count": 6
        }
      ]
    },
    {
      "cell_type": "code",
      "source": [
        "dialogue_builder.show()"
      ],
      "metadata": {
        "colab": {
          "base_uri": "https://localhost:8080/",
          "height": 1000
        },
        "id": "nYtlG_uDJHn3",
        "outputId": "d5752cbc-ed93-4704-ef15-74411e344afe"
      },
      "execution_count": null,
      "outputs": [
        {
          "output_type": "display_data",
          "data": {
            "image/png": "[encoded data removed]",
            "text/plain": [
              "<IPython.core.display.Image object>"
            ]
          },
          "metadata": {}
        }
      ]
    },
    {
      "cell_type": "code",
      "source": [
        "dialogue = dialogue_builder.run({\"greeter\": {\"user_name\": \"Tuana\"}})\n",
        "\n",
        "print(dialogue[\"llm\"][\"replies\"][0])"
      ],
      "metadata": {
        "colab": {
          "base_uri": "https://localhost:8080/"
        },
        "id": "nQlhSGMRJJ8U",
        "outputId": "cecabc7d-003c-4e8c-90b9-fcee52881d71"
      },
      "execution_count": null,
      "outputs": [
        {
          "output_type": "stream",
          "name": "stdout",
          "text": [
            "ChatMessage(_role=<ChatRole.ASSISTANT: 'assistant'>, _content=[TextContent(text=\"Scene: A coffee shop. Tuana is sitting at a table, sipping her coffee. Sarah enters and greets her.\\n\\nSarah: Hello Tuana. How are you?\\n\\nTuana: Hi, Sarah. I'm doing well, thanks. How about you?\\n\\nSarah: I'm hanging in there. I'm feeling a little stressed lately.\\n\\nTuana: Oh no, what's been going on?\\n\\nSarah: Work has been crazy busy and to top it off, my cat has been sick.\\n\\nTuana: I'm sorry to hear that. Is your cat okay now?\\n\\nSarah: Yeah, thankfully. The vet gave her some medicine and she's starting to feel better.\\n\\nTuana: That's a relief.\\n\\nSarah: So, what have you been up to lately?\\n\\nTuana: Not much, just trying to keep busy with work and my language classes. I'm learning Spanish.\\n\\nSarah: That's great. How's it going?\\n\\nTuana: It's been challenging but fun. I'm starting to get the hang of it.\\n\\nSarah: ¿Hablas español?\\n\\nTuana: Sí, un poco. ¿Y tú?\\n\\nSarah: No mucho. También estoy aprendiendo.\\n\\nTuana: ¡Muy bien! Tal vez podamos practicar juntas algún día.\\n\\nSarah: Me encantaría. Gracias, Tuana.\\n\\nTuana: De nada, Sarah. Siempre es divertido aprender algo nuevo.\")], _name=None, _meta={'model': 'gpt-35-turbo', 'index': 0, 'finish_reason': 'stop', 'usage': {'completion_tokens': 292, 'prompt_tokens': 45, 'total_tokens': 337, 'completion_tokens_details': None, 'prompt_tokens_details': None}})\n"
          ]
        }
      ]
    },
    {
      "cell_type": "code",
      "source": [
        "trending_list = requests.get(\n",
        "        url=\"https://hacker-news.firebaseio.com/v0/topstories.json?print=pretty\"\n",
        "    )\n",
        "post = requests.get(\n",
        "    url=f\"https://hacker-news.firebaseio.com/v0/item/{trending_list.json()[0]}.json?print=pretty\"\n",
        ")\n",
        "\n",
        "print(post.json())"
      ],
      "metadata": {
        "colab": {
          "base_uri": "https://localhost:8080/"
        },
        "id": "3kWFZhCTJNA9",
        "outputId": "539eaeaf-e04a-4eb9-9bff-4d042e1c9e36"
      },
      "execution_count": null,
      "outputs": [
        {
          "output_type": "stream",
          "name": "stdout",
          "text": [
            "{'by': 'theden', 'descendants': 71, 'id': 42959775, 'kids': [42960461, 42961803, 42961449, 42961457, 42961830, 42961327, 42960428, 42961129, 42960683, 42961392, 42961099, 42960802, 42961764, 42961194, 42961311, 42962056, 42961756, 42961087, 42960622, 42961323, 42960639, 42961940, 42961244, 42961234, 42960538], 'score': 233, 'time': 1738824737, 'title': 'Linux Running in a PDF', 'type': 'story', 'url': 'https://linux.doompdf.dev/linux.pdf'}\n"
          ]
        }
      ]
    },
    {
      "cell_type": "code",
      "source": [
        "@component\n",
        "class HackernewsNewestFetcher:\n",
        "    @component.output_types(articles=List[Document])\n",
        "    def run(self, top_k: int):\n",
        "        articles = []\n",
        "        return {\"articles\": articles}"
      ],
      "metadata": {
        "id": "WX6E2VguJOob"
      },
      "execution_count": null,
      "outputs": []
    },
    {
      "cell_type": "code",
      "source": [
        "@component\n",
        "class HackernewsNewestFetcher:\n",
        "    def __init__(self):\n",
        "        fetcher = LinkContentFetcher()\n",
        "        converter = HTMLToDocument()\n",
        "\n",
        "        html_conversion_pipeline = Pipeline()\n",
        "        html_conversion_pipeline.add_component(\"fetcher\", fetcher)\n",
        "        html_conversion_pipeline.add_component(\"converter\", converter)\n",
        "\n",
        "        html_conversion_pipeline.connect(\"fetcher\", \"converter\")\n",
        "        self.html_pipeline = html_conversion_pipeline\n",
        "\n",
        "    @component.output_types(articles=List[Document])\n",
        "    def run(self, top_k: int):\n",
        "        articles = []\n",
        "        trending_list = requests.get(\n",
        "            url=\"https://hacker-news.firebaseio.com/v0/topstories.json?print=pretty\"\n",
        "        )\n",
        "        for id in trending_list.json()[0:top_k]:\n",
        "            post = requests.get(\n",
        "                url=f\"https://hacker-news.firebaseio.com/v0/item/{id}.json?print=pretty\"\n",
        "            )\n",
        "            if \"url\" in post.json():\n",
        "                try:\n",
        "                    article = self.html_pipeline.run(\n",
        "                        {\"fetcher\": {\"urls\": [post.json()[\"url\"]]}}\n",
        "                    )\n",
        "                    articles.append(article[\"converter\"][\"documents\"][0])\n",
        "                except:\n",
        "                    print(f\"Can't download {post}, skipped\")\n",
        "            elif \"text\" in post.json():\n",
        "                try:\n",
        "                    articles.append(Document(content=post.json()[\"text\"], meta= {\"title\": post.json()[\"title\"]}))\n",
        "                except:\n",
        "                    print(f\"Can't download {post}, skipped\")\n",
        "        return {\"articles\": articles}"
      ],
      "metadata": {
        "id": "VN0mqFnmJQcL"
      },
      "execution_count": null,
      "outputs": []
    },
    {
      "cell_type": "code",
      "source": [
        "fetcher = HackernewsNewestFetcher()\n",
        "results = fetcher.run(top_k=3)\n",
        "\n",
        "print(results['articles'])"
      ],
      "metadata": {
        "colab": {
          "base_uri": "https://localhost:8080/"
        },
        "id": "_a_vBdaiJSjK",
        "outputId": "44ad1481-4043-4514-c247-58e4a4c0c22a"
      },
      "execution_count": null,
      "outputs": [
        {
          "output_type": "stream",
          "name": "stderr",
          "text": [
            "WARNING:haystack.components.converters.html:Failed to extract text from ByteStream(data=b'%PDF-1.3\\n%\\xe2\\xe3\\xcf\\xd3\\n1 0 obj\\n<</Pages 2 0 R /Type /Catalog>>\\nendobj\\n2 0 obj\\n<</Count 1 /Kids [3 0 R] /Type...', meta={'content_type': 'application/pdf', 'url': 'https://linux.doompdf.dev/linux.pdf'}, mime_type='application/pdf'). Skipping it. Error: 'utf-8' codec can't decode byte 0xe2 in position 10: invalid continuation byte\n"
          ]
        },
        {
          "output_type": "stream",
          "name": "stdout",
          "text": [
            "Can't download <Response [200]>, skipped\n",
            "[Document(id=9ae43c787c00e1ad3b87dca35f05ae3017063e23e5a66472ca9e98015fa2f99d, content: 'Sergey Filimonov\n",
            "Menu\n",
            "About\n",
            "Articles\n",
            "Ingesting Millions of PDFs and why Gemini 2.0 Changes Everythin...', meta: {'content_type': 'text/html', 'url': 'https://www.sergey.fyi/articles/gemini-flash-2'}), Document(id=599e2b5d223e00af6ddd119a351562c1a68df9b9b8c2f1889df76e26ec6bd3c3, content: 'February 4, 2025\n",
            "After 8 months of working on this post I don’t know how to start it except to say i...', meta: {'content_type': 'text/html', 'url': 'https://danielchasehooper.com/posts/code-animated-rick/'})]\n"
          ]
        }
      ]
    },
    {
      "cell_type": "code",
      "source": [
        "# prompt_template = [\n",
        "#     ChatMessage.from_user(\"\"\"\n",
        "# You will be provided a few of the top posts in HackerNews.\n",
        "# For each post, provide a brief summary if possible.\n",
        "\n",
        "# Posts:\n",
        "# {% for article in articles %}\n",
        "#   Post:\\n\n",
        "#   {{ article.content}}\n",
        "# {% endfor %}\n",
        "# \"\"\")\n",
        "# ]\n",
        "\n",
        "\n",
        "prompt_template = [\n",
        "    ChatMessage.from_user(\n",
        "        \"\"\"\n",
        "You will be provided a few of the top posts in HackerNews.\n",
        "For each post, provide a brief summary if possible.\n",
        "\n",
        "Posts:\n",
        "{% for article in articles %}\n",
        "  Post:\\n\n",
        "  {{ article.content | truncate(4000) }}  # Truncate content to 4000 characters\n",
        "{% endfor %}\n",
        "\"\"\"\n",
        "    )\n",
        "]"
      ],
      "metadata": {
        "id": "NLxUD74YJT4r"
      },
      "execution_count": null,
      "outputs": []
    },
    {
      "cell_type": "code",
      "source": [
        "prompt_builder = ChatPromptBuilder(template=prompt_template)\n",
        "\n",
        "fetcher = HackernewsNewestFetcher()\n",
        "\n",
        "llm = AzureOpenAIChatGenerator(\n",
        "    azure_endpoint=userdata.get('azure_endpoint'),\n",
        "    api_key=Secret.from_token(userdata.get('api_key')),\n",
        "    azure_deployment=\"gpt-35-turbo\"\n",
        ")\n",
        "summarizer_pipeline = Pipeline()\n",
        "summarizer_pipeline.add_component(\"fetcher\", fetcher)\n",
        "summarizer_pipeline.add_component(\"prompt\", prompt_builder)\n",
        "summarizer_pipeline.add_component(\"llm\", llm)\n",
        "\n",
        "summarizer_pipeline.connect(\"fetcher.articles\", \"prompt.articles\")\n",
        "summarizer_pipeline.connect(\"prompt\", \"llm\")"
      ],
      "metadata": {
        "colab": {
          "base_uri": "https://localhost:8080/"
        },
        "id": "BApDYWTfJa0M",
        "outputId": "239fac22-7d04-4745-a987-9671fd439c3e"
      },
      "execution_count": null,
      "outputs": [
        {
          "output_type": "execute_result",
          "data": {
            "text/plain": [
              "<haystack.core.pipeline.pipeline.Pipeline object at 0x78377f7ce0b0>\n",
              "🚅 Components\n",
              "  - fetcher: HackernewsNewestFetcher\n",
              "  - prompt: ChatPromptBuilder\n",
              "  - llm: AzureOpenAIChatGenerator\n",
              "🛤️ Connections\n",
              "  - fetcher.articles -> prompt.articles (List[Document])\n",
              "  - prompt.prompt -> llm.messages (List[ChatMessage])"
            ]
          },
          "metadata": {},
          "execution_count": 14
        }
      ]
    },
    {
      "cell_type": "code",
      "source": [
        "summaries = summarizer_pipeline.run({\"fetcher\": {\"top_k\": 1}})\n",
        "\n",
        "print(summaries[\"llm\"][\"replies\"][0])"
      ],
      "metadata": {
        "colab": {
          "base_uri": "https://localhost:8080/"
        },
        "id": "IUloCKLVJknX",
        "outputId": "0c33a4a8-1408-4910-b517-9327e7b06c0b"
      },
      "execution_count": null,
      "outputs": [
        {
          "output_type": "stream",
          "name": "stderr",
          "text": [
            "WARNING:haystack.components.converters.html:Failed to extract text from ByteStream(data=b'%PDF-1.3\\n%\\xe2\\xe3\\xcf\\xd3\\n1 0 obj\\n<</Pages 2 0 R /Type /Catalog>>\\nendobj\\n2 0 obj\\n<</Count 1 /Kids [3 0 R] /Type...', meta={'content_type': 'application/pdf', 'url': 'https://linux.doompdf.dev/linux.pdf'}, mime_type='application/pdf'). Skipping it. Error: 'utf-8' codec can't decode byte 0xe2 in position 10: invalid continuation byte\n"
          ]
        },
        {
          "output_type": "stream",
          "name": "stdout",
          "text": [
            "Can't download <Response [200]>, skipped\n",
            "ChatMessage(_role=<ChatRole.ASSISTANT: 'assistant'>, _content=[TextContent(text='1. \"Ask HN: How do you start your day?\" - This post is a discussion thread where people are sharing their morning routines and habits to kickstart their days effectively.\\n2. \"Show HN: A customizable dashboard with all your social media and website analytics\" - The post showcases a web tool where users can integrate and visualize their website and social media analytics on a customizable dashboard.\\n3. \"Why we stopped using Basecamp 3: an open letter from a formerly happy customer\" - In this post, the author shares their negative experience with Basecamp 3 and how it led them to switch to a different productivity tool.\\n4. \"Ask HN: How do you handle technical debt?\" - This post is another discussion thread where people are sharing their approaches and strategies for managing and reducing technical debt in their software projects. \\n5. \"COVID-19 Mass Testing Can Work: Slovakia Did It\" - The post talks about how Slovakia successfully implemented mass testing for COVID-19 and the benefits and challenges of such an approach.')], _name=None, _meta={'model': 'gpt-35-turbo', 'index': 0, 'finish_reason': 'stop', 'usage': {'completion_tokens': 211, 'prompt_tokens': 39, 'total_tokens': 250, 'completion_tokens_details': None, 'prompt_tokens_details': None}})\n"
          ]
        }
      ]
    },
    {
      "cell_type": "code",
      "source": [
        "summaries"
      ],
      "metadata": {
        "colab": {
          "base_uri": "https://localhost:8080/"
        },
        "id": "rc_9bevBLz7u",
        "outputId": "221ea1dd-33a4-46f3-df5c-6898c6bd8239"
      },
      "execution_count": null,
      "outputs": [
        {
          "output_type": "execute_result",
          "data": {
            "text/plain": [
              "{'llm': {'replies': [ChatMessage(_role=<ChatRole.ASSISTANT: 'assistant'>, _content=[TextContent(text='1. \"Ask HN: How do you start your day?\" - This post is a discussion thread where people are sharing their morning routines and habits to kickstart their days effectively.\\n2. \"Show HN: A customizable dashboard with all your social media and website analytics\" - The post showcases a web tool where users can integrate and visualize their website and social media analytics on a customizable dashboard.\\n3. \"Why we stopped using Basecamp 3: an open letter from a formerly happy customer\" - In this post, the author shares their negative experience with Basecamp 3 and how it led them to switch to a different productivity tool.\\n4. \"Ask HN: How do you handle technical debt?\" - This post is another discussion thread where people are sharing their approaches and strategies for managing and reducing technical debt in their software projects. \\n5. \"COVID-19 Mass Testing Can Work: Slovakia Did It\" - The post talks about how Slovakia successfully implemented mass testing for COVID-19 and the benefits and challenges of such an approach.')], _name=None, _meta={'model': 'gpt-35-turbo', 'index': 0, 'finish_reason': 'stop', 'usage': {'completion_tokens': 211, 'prompt_tokens': 39, 'total_tokens': 250, 'completion_tokens_details': None, 'prompt_tokens_details': None}})]}}"
            ]
          },
          "metadata": {},
          "execution_count": 16
        }
      ]
    },
    {
      "cell_type": "markdown",
      "source": [],
      "metadata": {
        "id": "vVxFYuvn_oMt"
      }
    }
  ],
  "metadata": {
    "accelerator": "GPU",
    "colab": {
      "gpuType": "T4",
      "provenance": []
    },
    "kernelspec": {
      "display_name": "Python 3",
      "name": "python3"
    },
    "language_info": {
      "codemirror_mode": {
        "name": "ipython",
        "version": 3
      },
      "file_extension": ".py",
      "mimetype": "text/x-python",
      "name": "python",
      "nbconvert_exporter": "python",
      "pygments_lexer": "ipython3",
      "version": "3.9.6"
    },
    "orig_nbformat": 4,
    "vscode": {
      "interpreter": {
        "hash": "31f2aee4e71d21fbe5cf8b01ff0e069b9275f58929596ceb00d14d90e3e16cd6"
      }
    }
  },
  "nbformat": 4,
  "nbformat_minor": 0
}