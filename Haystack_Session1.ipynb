{
  "cells": [
    {
      "cell_type": "markdown",
      "metadata": {
        "id": "yBGyNWSKpxsx"
      },
      "source": [
        "# Haystack Building Blocks"
      ]
    },
    {
      "cell_type": "markdown",
      "metadata": {
        "id": "Kww5B_vXO-qZ"
      },
      "source": [
        "## Installing Haystack\n",
        "\n",
        "Install Haystack and other required packages with `pip`:"
      ]
    },
    {
      "cell_type": "code",
      "execution_count": 1,
      "metadata": {
        "id": "UQbU8GUfO-qZ",
        "colab": {
          "base_uri": "https://localhost:8080/"
        },
        "outputId": "a0c95580-234f-49fe-e03f-d51bfe2c9cbe"
      },
      "outputs": [
        {
          "output_type": "stream",
          "name": "stdout",
          "text": [
            "Collecting haystack-ai\n",
            "  Downloading haystack_ai-2.9.0-py3-none-any.whl.metadata (13 kB)\n",
            "Collecting haystack-experimental (from haystack-ai)\n",
            "  Downloading haystack_experimental-0.5.0-py3-none-any.whl.metadata (15 kB)\n",
            "Requirement already satisfied: jinja2 in /usr/local/lib/python3.11/dist-packages (from haystack-ai) (3.1.5)\n",
            "Collecting lazy-imports (from haystack-ai)\n",
            "  Downloading lazy_imports-0.4.0-py3-none-any.whl.metadata (10 kB)\n",
            "Requirement already satisfied: more-itertools in /usr/local/lib/python3.11/dist-packages (from haystack-ai) (10.5.0)\n",
            "Requirement already satisfied: networkx in /usr/local/lib/python3.11/dist-packages (from haystack-ai) (3.4.2)\n",
            "Requirement already satisfied: numpy in /usr/local/lib/python3.11/dist-packages (from haystack-ai) (1.26.4)\n",
            "Requirement already satisfied: openai>=1.56.1 in /usr/local/lib/python3.11/dist-packages (from haystack-ai) (1.59.9)\n",
            "Requirement already satisfied: pandas in /usr/local/lib/python3.11/dist-packages (from haystack-ai) (2.2.2)\n",
            "Collecting posthog (from haystack-ai)\n",
            "  Downloading posthog-3.11.0-py2.py3-none-any.whl.metadata (2.9 kB)\n",
            "Requirement already satisfied: pydantic in /usr/local/lib/python3.11/dist-packages (from haystack-ai) (2.10.6)\n",
            "Requirement already satisfied: python-dateutil in /usr/local/lib/python3.11/dist-packages (from haystack-ai) (2.8.2)\n",
            "Requirement already satisfied: pyyaml in /usr/local/lib/python3.11/dist-packages (from haystack-ai) (6.0.2)\n",
            "Requirement already satisfied: requests in /usr/local/lib/python3.11/dist-packages (from haystack-ai) (2.32.3)\n",
            "Requirement already satisfied: tenacity!=8.4.0 in /usr/local/lib/python3.11/dist-packages (from haystack-ai) (9.0.0)\n",
            "Requirement already satisfied: tqdm in /usr/local/lib/python3.11/dist-packages (from haystack-ai) (4.67.1)\n",
            "Requirement already satisfied: typing-extensions>=4.7 in /usr/local/lib/python3.11/dist-packages (from haystack-ai) (4.12.2)\n",
            "Requirement already satisfied: anyio<5,>=3.5.0 in /usr/local/lib/python3.11/dist-packages (from openai>=1.56.1->haystack-ai) (3.7.1)\n",
            "Requirement already satisfied: distro<2,>=1.7.0 in /usr/local/lib/python3.11/dist-packages (from openai>=1.56.1->haystack-ai) (1.9.0)\n",
            "Requirement already satisfied: httpx<1,>=0.23.0 in /usr/local/lib/python3.11/dist-packages (from openai>=1.56.1->haystack-ai) (0.28.1)\n",
            "Requirement already satisfied: jiter<1,>=0.4.0 in /usr/local/lib/python3.11/dist-packages (from openai>=1.56.1->haystack-ai) (0.8.2)\n",
            "Requirement already satisfied: sniffio in /usr/local/lib/python3.11/dist-packages (from openai>=1.56.1->haystack-ai) (1.3.1)\n",
            "Requirement already satisfied: annotated-types>=0.6.0 in /usr/local/lib/python3.11/dist-packages (from pydantic->haystack-ai) (0.7.0)\n",
            "Requirement already satisfied: pydantic-core==2.27.2 in /usr/local/lib/python3.11/dist-packages (from pydantic->haystack-ai) (2.27.2)\n",
            "Requirement already satisfied: MarkupSafe>=2.0 in /usr/local/lib/python3.11/dist-packages (from jinja2->haystack-ai) (3.0.2)\n",
            "Requirement already satisfied: pytz>=2020.1 in /usr/local/lib/python3.11/dist-packages (from pandas->haystack-ai) (2024.2)\n",
            "Requirement already satisfied: tzdata>=2022.7 in /usr/local/lib/python3.11/dist-packages (from pandas->haystack-ai) (2025.1)\n",
            "Requirement already satisfied: six>=1.5 in /usr/local/lib/python3.11/dist-packages (from python-dateutil->haystack-ai) (1.17.0)\n",
            "Collecting monotonic>=1.5 (from posthog->haystack-ai)\n",
            "  Downloading monotonic-1.6-py2.py3-none-any.whl.metadata (1.5 kB)\n",
            "Collecting backoff>=1.10.0 (from posthog->haystack-ai)\n",
            "  Downloading backoff-2.2.1-py3-none-any.whl.metadata (14 kB)\n",
            "Requirement already satisfied: charset-normalizer<4,>=2 in /usr/local/lib/python3.11/dist-packages (from requests->haystack-ai) (3.4.1)\n",
            "Requirement already satisfied: idna<4,>=2.5 in /usr/local/lib/python3.11/dist-packages (from requests->haystack-ai) (3.10)\n",
            "Requirement already satisfied: urllib3<3,>=1.21.1 in /usr/local/lib/python3.11/dist-packages (from requests->haystack-ai) (2.3.0)\n",
            "Requirement already satisfied: certifi>=2017.4.17 in /usr/local/lib/python3.11/dist-packages (from requests->haystack-ai) (2024.12.14)\n",
            "Requirement already satisfied: httpcore==1.* in /usr/local/lib/python3.11/dist-packages (from httpx<1,>=0.23.0->openai>=1.56.1->haystack-ai) (1.0.7)\n",
            "Requirement already satisfied: h11<0.15,>=0.13 in /usr/local/lib/python3.11/dist-packages (from httpcore==1.*->httpx<1,>=0.23.0->openai>=1.56.1->haystack-ai) (0.14.0)\n",
            "Downloading haystack_ai-2.9.0-py3-none-any.whl (419 kB)\n",
            "   ━━━━━━━━━━━━━━━━━━━━━━━━━━━━━━━━━━━━━━━━ 419.2/419.2 kB 10.3 MB/s eta 0:00:00\n",
            "Downloading haystack_experimental-0.5.0-py3-none-any.whl (95 kB)\n",
            "   ━━━━━━━━━━━━━━━━━━━━━━━━━━━━━━━━━━━━━━━━ 95.1/95.1 kB 8.0 MB/s eta 0:00:00\n",
            "Downloading lazy_imports-0.4.0-py3-none-any.whl (12 kB)\n",
            "Downloading posthog-3.11.0-py2.py3-none-any.whl (72 kB)\n",
            "   ━━━━━━━━━━━━━━━━━━━━━━━━━━━━━━━━━━━━━━━━ 72.0/72.0 kB 6.1 MB/s eta 0:00:00\n",
            "Downloading backoff-2.2.1-py3-none-any.whl (15 kB)\n",
            "Downloading monotonic-1.6-py2.py3-none-any.whl (8.2 kB)\n",
            "Installing collected packages: monotonic, lazy-imports, backoff, posthog, haystack-experimental, haystack-ai\n",
            "Successfully installed backoff-2.2.1 haystack-ai-2.9.0 haystack-experimental-0.5.0 lazy-imports-0.4.0 monotonic-1.6 posthog-3.11.0\n",
            "Collecting datasets>=2.6.1\n",
            "  Downloading datasets-3.2.0-py3-none-any.whl.metadata (20 kB)\n",
            "Requirement already satisfied: filelock in /usr/local/lib/python3.11/dist-packages (from datasets>=2.6.1) (3.17.0)\n",
            "Requirement already satisfied: numpy>=1.17 in /usr/local/lib/python3.11/dist-packages (from datasets>=2.6.1) (1.26.4)\n",
            "Requirement already satisfied: pyarrow>=15.0.0 in /usr/local/lib/python3.11/dist-packages (from datasets>=2.6.1) (17.0.0)\n",
            "Collecting dill<0.3.9,>=0.3.0 (from datasets>=2.6.1)\n",
            "  Downloading dill-0.3.8-py3-none-any.whl.metadata (10 kB)\n",
            "Requirement already satisfied: pandas in /usr/local/lib/python3.11/dist-packages (from datasets>=2.6.1) (2.2.2)\n",
            "Requirement already satisfied: requests>=2.32.2 in /usr/local/lib/python3.11/dist-packages (from datasets>=2.6.1) (2.32.3)\n",
            "Requirement already satisfied: tqdm>=4.66.3 in /usr/local/lib/python3.11/dist-packages (from datasets>=2.6.1) (4.67.1)\n",
            "Collecting xxhash (from datasets>=2.6.1)\n",
            "  Downloading xxhash-3.5.0-cp311-cp311-manylinux_2_17_x86_64.manylinux2014_x86_64.whl.metadata (12 kB)\n",
            "Collecting multiprocess<0.70.17 (from datasets>=2.6.1)\n",
            "  Downloading multiprocess-0.70.16-py311-none-any.whl.metadata (7.2 kB)\n",
            "Collecting fsspec<=2024.9.0,>=2023.1.0 (from fsspec[http]<=2024.9.0,>=2023.1.0->datasets>=2.6.1)\n",
            "  Downloading fsspec-2024.9.0-py3-none-any.whl.metadata (11 kB)\n",
            "Requirement already satisfied: aiohttp in /usr/local/lib/python3.11/dist-packages (from datasets>=2.6.1) (3.11.11)\n",
            "Requirement already satisfied: huggingface-hub>=0.23.0 in /usr/local/lib/python3.11/dist-packages (from datasets>=2.6.1) (0.27.1)\n",
            "Requirement already satisfied: packaging in /usr/local/lib/python3.11/dist-packages (from datasets>=2.6.1) (24.2)\n",
            "Requirement already satisfied: pyyaml>=5.1 in /usr/local/lib/python3.11/dist-packages (from datasets>=2.6.1) (6.0.2)\n",
            "Requirement already satisfied: aiohappyeyeballs>=2.3.0 in /usr/local/lib/python3.11/dist-packages (from aiohttp->datasets>=2.6.1) (2.4.4)\n",
            "Requirement already satisfied: aiosignal>=1.1.2 in /usr/local/lib/python3.11/dist-packages (from aiohttp->datasets>=2.6.1) (1.3.2)\n",
            "Requirement already satisfied: attrs>=17.3.0 in /usr/local/lib/python3.11/dist-packages (from aiohttp->datasets>=2.6.1) (25.1.0)\n",
            "Requirement already satisfied: frozenlist>=1.1.1 in /usr/local/lib/python3.11/dist-packages (from aiohttp->datasets>=2.6.1) (1.5.0)\n",
            "Requirement already satisfied: multidict<7.0,>=4.5 in /usr/local/lib/python3.11/dist-packages (from aiohttp->datasets>=2.6.1) (6.1.0)\n",
            "Requirement already satisfied: propcache>=0.2.0 in /usr/local/lib/python3.11/dist-packages (from aiohttp->datasets>=2.6.1) (0.2.1)\n",
            "Requirement already satisfied: yarl<2.0,>=1.17.0 in /usr/local/lib/python3.11/dist-packages (from aiohttp->datasets>=2.6.1) (1.18.3)\n",
            "Requirement already satisfied: typing-extensions>=3.7.4.3 in /usr/local/lib/python3.11/dist-packages (from huggingface-hub>=0.23.0->datasets>=2.6.1) (4.12.2)\n",
            "Requirement already satisfied: charset-normalizer<4,>=2 in /usr/local/lib/python3.11/dist-packages (from requests>=2.32.2->datasets>=2.6.1) (3.4.1)\n",
            "Requirement already satisfied: idna<4,>=2.5 in /usr/local/lib/python3.11/dist-packages (from requests>=2.32.2->datasets>=2.6.1) (3.10)\n",
            "Requirement already satisfied: urllib3<3,>=1.21.1 in /usr/local/lib/python3.11/dist-packages (from requests>=2.32.2->datasets>=2.6.1) (2.3.0)\n",
            "Requirement already satisfied: certifi>=2017.4.17 in /usr/local/lib/python3.11/dist-packages (from requests>=2.32.2->datasets>=2.6.1) (2024.12.14)\n",
            "Requirement already satisfied: python-dateutil>=2.8.2 in /usr/local/lib/python3.11/dist-packages (from pandas->datasets>=2.6.1) (2.8.2)\n",
            "Requirement already satisfied: pytz>=2020.1 in /usr/local/lib/python3.11/dist-packages (from pandas->datasets>=2.6.1) (2024.2)\n",
            "Requirement already satisfied: tzdata>=2022.7 in /usr/local/lib/python3.11/dist-packages (from pandas->datasets>=2.6.1) (2025.1)\n",
            "Requirement already satisfied: six>=1.5 in /usr/local/lib/python3.11/dist-packages (from python-dateutil>=2.8.2->pandas->datasets>=2.6.1) (1.17.0)\n",
            "Downloading datasets-3.2.0-py3-none-any.whl (480 kB)\n",
            "   ━━━━━━━━━━━━━━━━━━━━━━━━━━━━━━━━━━━━━━━━ 480.6/480.6 kB 13.1 MB/s eta 0:00:00\n",
            "Downloading dill-0.3.8-py3-none-any.whl (116 kB)\n",
            "   ━━━━━━━━━━━━━━━━━━━━━━━━━━━━━━━━━━━━━━━━ 116.3/116.3 kB 9.9 MB/s eta 0:00:00\n",
            "Downloading fsspec-2024.9.0-py3-none-any.whl (179 kB)\n",
            "   ━━━━━━━━━━━━━━━━━━━━━━━━━━━━━━━━━━━━━━━━ 179.3/179.3 kB 15.1 MB/s eta 0:00:00\n",
            "Downloading multiprocess-0.70.16-py311-none-any.whl (143 kB)\n",
            "   ━━━━━━━━━━━━━━━━━━━━━━━━━━━━━━━━━━━━━━━━ 143.5/143.5 kB 10.3 MB/s eta 0:00:00\n",
            "Downloading xxhash-3.5.0-cp311-cp311-manylinux_2_17_x86_64.manylinux2014_x86_64.whl (194 kB)\n",
            "   ━━━━━━━━━━━━━━━━━━━━━━━━━━━━━━━━━━━━━━━━ 194.8/194.8 kB 17.2 MB/s eta 0:00:00\n",
            "Installing collected packages: xxhash, fsspec, dill, multiprocess, datasets\n",
            "  Attempting uninstall: fsspec\n",
            "    Found existing installation: fsspec 2024.10.0\n",
            "    Uninstalling fsspec-2024.10.0:\n",
            "      Successfully uninstalled fsspec-2024.10.0\n",
            "Successfully installed datasets-3.2.0 dill-0.3.8 fsspec-2024.9.0 multiprocess-0.70.16 xxhash-3.5.0\n"
          ]
        },
        {
          "output_type": "stream",
          "name": "stderr",
          "text": [
            "ERROR: pip's dependency resolver does not currently take into account all the packages that are installed. This behaviour is the source of the following dependency conflicts.\n",
            "gcsfs 2024.10.0 requires fsspec==2024.10.0, but you have fsspec 2024.9.0 which is incompatible.\n",
            "torch 2.5.1+cu124 requires nvidia-cublas-cu12==12.4.5.8; platform_system == \"Linux\" and platform_machine == \"x86_64\", but you have nvidia-cublas-cu12 12.5.3.2 which is incompatible.\n",
            "torch 2.5.1+cu124 requires nvidia-cuda-cupti-cu12==12.4.127; platform_system == \"Linux\" and platform_machine == \"x86_64\", but you have nvidia-cuda-cupti-cu12 12.5.82 which is incompatible.\n",
            "torch 2.5.1+cu124 requires nvidia-cuda-nvrtc-cu12==12.4.127; platform_system == \"Linux\" and platform_machine == \"x86_64\", but you have nvidia-cuda-nvrtc-cu12 12.5.82 which is incompatible.\n",
            "torch 2.5.1+cu124 requires nvidia-cuda-runtime-cu12==12.4.127; platform_system == \"Linux\" and platform_machine == \"x86_64\", but you have nvidia-cuda-runtime-cu12 12.5.82 which is incompatible.\n",
            "torch 2.5.1+cu124 requires nvidia-cudnn-cu12==9.1.0.70; platform_system == \"Linux\" and platform_machine == \"x86_64\", but you have nvidia-cudnn-cu12 9.3.0.75 which is incompatible.\n",
            "torch 2.5.1+cu124 requires nvidia-cufft-cu12==11.2.1.3; platform_system == \"Linux\" and platform_machine == \"x86_64\", but you have nvidia-cufft-cu12 11.2.3.61 which is incompatible.\n",
            "torch 2.5.1+cu124 requires nvidia-curand-cu12==10.3.5.147; platform_system == \"Linux\" and platform_machine == \"x86_64\", but you have nvidia-curand-cu12 10.3.6.82 which is incompatible.\n",
            "torch 2.5.1+cu124 requires nvidia-cusolver-cu12==11.6.1.9; platform_system == \"Linux\" and platform_machine == \"x86_64\", but you have nvidia-cusolver-cu12 11.6.3.83 which is incompatible.\n",
            "torch 2.5.1+cu124 requires nvidia-cusparse-cu12==12.3.1.170; platform_system == \"Linux\" and platform_machine == \"x86_64\", but you have nvidia-cusparse-cu12 12.5.1.3 which is incompatible.\n",
            "torch 2.5.1+cu124 requires nvidia-nvjitlink-cu12==12.4.127; platform_system == \"Linux\" and platform_machine == \"x86_64\", but you have nvidia-nvjitlink-cu12 12.5.82 which is incompatible.\n"
          ]
        }
      ],
      "source": [
        "%%bash\n",
        "\n",
        "pip install haystack-ai\n",
        "pip install \"datasets>=2.6.1\""
      ]
    },
    {
      "cell_type": "code",
      "source": [
        "from haystack.document_stores.in_memory import InMemoryDocumentStore\n",
        "from haystack.components.generators.chat import AzureOpenAIChatGenerator\n",
        "\n",
        "from google.colab import userdata\n",
        "from haystack.utils import Secret\n",
        "from haystack.dataclasses import ChatMessage\n",
        "from haystack.components.builders import ChatPromptBuilder\n",
        "\n",
        "from haystack.components.embedders import AzureOpenAIDocumentEmbedder\n",
        "\n",
        "from haystack.components.generators.chat import AzureOpenAIChatGenerator\n",
        "from haystack.components.embedders import AzureOpenAITextEmbedder\n"
      ],
      "metadata": {
        "id": "Z9ji77bljcoM"
      },
      "execution_count": 15,
      "outputs": []
    },
    {
      "cell_type": "code",
      "source": [
        "document_store = InMemoryDocumentStore()"
      ],
      "metadata": {
        "id": "92DbbwH2j5uL"
      },
      "execution_count": 16,
      "outputs": []
    },
    {
      "cell_type": "markdown",
      "source": [
        "## Define Prompt Builder"
      ],
      "metadata": {
        "id": "RaEvBxAzkHLu"
      }
    },
    {
      "cell_type": "code",
      "source": [
        "template = [\n",
        "    ChatMessage.from_user(\n",
        "        \"\"\"\n",
        "        Given the following information, answer the question.\n",
        "\n",
        "        context:\n",
        "        {% for document in documents %}\n",
        "        {{ document.content }}\n",
        "        {% endfor %}\n",
        "\n",
        "        Question: {{question}}\n",
        "        Answer:\n",
        "        \"\"\"\n",
        "    )\n",
        "]\n",
        "\n",
        "prompt_builder = ChatPromptBuilder(template = template)"
      ],
      "metadata": {
        "id": "dbjn2Lh5kEXm"
      },
      "execution_count": 32,
      "outputs": []
    },
    {
      "cell_type": "markdown",
      "source": [
        "## Load the Azure Components"
      ],
      "metadata": {
        "id": "do7Tov_SlE2i"
      }
    },
    {
      "cell_type": "code",
      "source": [
        "doc_embedder = AzureOpenAIDocumentEmbedder(\n",
        "                              azure_endpoint = userdata.get(\"ada_end_point\"),\n",
        "                             api_key = Secret.from_token(userdata.get(\"api_key\")),\n",
        "                             azure_deployment = \"text-embedding-ada-002\"\n",
        "\n",
        ")\n",
        "\n",
        "\n",
        "chat_generator = AzureOpenAIChatGenerator(azure_endpoint = userdata.get(\"azure_endpoint\"),\n",
        "                             api_key = Secret.from_token(userdata.get(\"api_key\")),\n",
        "                             azure_deployment = \"gpt-35-turbo\"\n",
        "\n",
        ")\n",
        "\n",
        "query_embedder = AzureOpenAITextEmbedder(azure_endpoint = userdata.get(\"ada_end_point\"),\n",
        "                             api_key = Secret.from_token(userdata.get(\"api_key\")),\n",
        "                             azure_deployment = \"text-embedding-ada-002\")"
      ],
      "metadata": {
        "id": "LmYlVIvNlD-x"
      },
      "execution_count": 33,
      "outputs": []
    },
    {
      "cell_type": "code",
      "source": [
        "from haystack.components.retrievers.in_memory import InMemoryEmbeddingRetriever"
      ],
      "metadata": {
        "id": "NOdS3tdLnHrK"
      },
      "execution_count": 34,
      "outputs": []
    },
    {
      "cell_type": "code",
      "source": [
        "retriever = InMemoryEmbeddingRetriever(document_store)"
      ],
      "metadata": {
        "id": "pJAWBOoMnAnI"
      },
      "execution_count": 35,
      "outputs": []
    },
    {
      "cell_type": "markdown",
      "source": [
        "## Indexing pipelines"
      ],
      "metadata": {
        "id": "ljAHYdolnRSf"
      }
    },
    {
      "cell_type": "code",
      "source": [
        "from haystack.components.converters.txt import TextFileToDocument\n",
        "from haystack.components.preprocessors.document_splitter import DocumentSplitter\n",
        "from haystack.components.writers import DocumentWriter"
      ],
      "metadata": {
        "id": "4YvxobkEnjq3"
      },
      "execution_count": 36,
      "outputs": []
    },
    {
      "cell_type": "code",
      "source": [
        "converter = TextFileToDocument()\n",
        "splitter = DocumentSplitter()\n",
        "writer = DocumentWriter(document_store = document_store)"
      ],
      "metadata": {
        "id": "QVB-FWuynTsQ"
      },
      "execution_count": 37,
      "outputs": []
    },
    {
      "cell_type": "markdown",
      "source": [
        "## Creating Pipelines"
      ],
      "metadata": {
        "id": "W43u80t8oEjd"
      }
    },
    {
      "cell_type": "code",
      "source": [
        "from haystack import Pipeline"
      ],
      "metadata": {
        "id": "HMszRJyIoMta"
      },
      "execution_count": 38,
      "outputs": []
    },
    {
      "cell_type": "code",
      "source": [
        "indexing_pipeline = Pipeline()\n",
        "indexing_pipeline.add_component(\"converter\", converter)\n",
        "indexing_pipeline.add_component(\"splitter\", splitter)\n",
        "indexing_pipeline.add_component(\"embedder\", doc_embedder)\n",
        "indexing_pipeline.add_component(\"writer\", writer)"
      ],
      "metadata": {
        "id": "18vyVy8CoG1e"
      },
      "execution_count": 39,
      "outputs": []
    },
    {
      "cell_type": "code",
      "source": [
        "indexing_pipeline.connect(\"converter.documents\", \"splitter.documents\")\n",
        "indexing_pipeline.connect(\"splitter\", \"embedder\")\n",
        "indexing_pipeline.connect(\"embedder\", \"writer\")"
      ],
      "metadata": {
        "colab": {
          "base_uri": "https://localhost:8080/"
        },
        "id": "-JQIQ2gLpERh",
        "outputId": "164ff80a-7e43-4d84-891c-4d0c02cb69dd"
      },
      "execution_count": 40,
      "outputs": [
        {
          "output_type": "execute_result",
          "data": {
            "text/plain": [
              "<haystack.core.pipeline.pipeline.Pipeline object at 0x7b0fd5a1b810>\n",
              "🚅 Components\n",
              "  - converter: TextFileToDocument\n",
              "  - splitter: DocumentSplitter\n",
              "  - embedder: AzureOpenAIDocumentEmbedder\n",
              "  - writer: DocumentWriter\n",
              "🛤️ Connections\n",
              "  - converter.documents -> splitter.documents (List[Document])\n",
              "  - splitter.documents -> embedder.documents (List[Document])\n",
              "  - embedder.documents -> writer.documents (List[Document])"
            ]
          },
          "metadata": {},
          "execution_count": 40
        }
      ]
    },
    {
      "cell_type": "code",
      "source": [
        "indexing_pipeline.show()"
      ],
      "metadata": {
        "colab": {
          "base_uri": "https://localhost:8080/",
          "height": 1000
        },
        "id": "k0Q05j91pkjN",
        "outputId": "8de0949d-716d-41fc-d33e-0d6c56a599c1"
      },
      "execution_count": 43,
      "outputs": [
        {
          "output_type": "display_data",
          "data": {
            "image/png": "[encoded data removed]",
            "text/plain": [
              "<IPython.core.display.Image object>"
            ]
          },
          "metadata": {}
        }
      ]
    },
    {
      "cell_type": "code",
      "source": [
        "indexing_pipeline.run({\"converter\": {\"sources\": ['davinci.txt']}})"
      ],
      "metadata": {
        "colab": {
          "base_uri": "https://localhost:8080/"
        },
        "id": "KFflJaszrR9K",
        "outputId": "d244f663-f0bb-4387-8804-86309f419729"
      },
      "execution_count": 44,
      "outputs": [
        {
          "output_type": "stream",
          "name": "stderr",
          "text": [
            "Embedding Texts: 100%|██████████| 37/37 [01:09<00:00,  1.89s/it]\n"
          ]
        },
        {
          "output_type": "execute_result",
          "data": {
            "text/plain": [
              "{'embedder': {'meta': {'model': 'text-embedding-ada-002',\n",
              "   'usage': {'prompt_tokens': 340507, 'total_tokens': 340507}}},\n",
              " 'writer': {'documents_written': 1163}}"
            ]
          },
          "metadata": {},
          "execution_count": 44
        }
      ]
    },
    {
      "cell_type": "markdown",
      "source": [
        "## Querying Pipeline"
      ],
      "metadata": {
        "id": "wugmhhCTs4rU"
      }
    },
    {
      "cell_type": "code",
      "source": [],
      "metadata": {
        "id": "HO6Qtf_Esq47"
      },
      "execution_count": 50,
      "outputs": []
    },
    {
      "cell_type": "code",
      "source": [
        "doc_embedder = AzureOpenAIDocumentEmbedder(\n",
        "                              azure_endpoint = userdata.get(\"ada_end_point\"),\n",
        "                             api_key = Secret.from_token(userdata.get(\"api_key\")),\n",
        "                             azure_deployment = \"text-embedding-ada-002\"\n",
        "\n",
        ")\n",
        "\n",
        "\n",
        "chat_generator = AzureOpenAIChatGenerator(azure_endpoint = userdata.get(\"azure_endpoint\"),\n",
        "                             api_key = Secret.from_token(userdata.get(\"api_key\")),\n",
        "                             azure_deployment = \"gpt-35-turbo\"\n",
        "\n",
        ")\n",
        "\n",
        "query_embedder = AzureOpenAITextEmbedder(azure_endpoint = userdata.get(\"ada_end_point\"),\n",
        "                             api_key = Secret.from_token(userdata.get(\"api_key\")),\n",
        "                             azure_deployment = \"text-embedding-ada-002\")\n",
        "\n",
        "retriever = InMemoryEmbeddingRetriever(document_store)\n",
        "\n",
        "prompt_builder = ChatPromptBuilder(template = template)"
      ],
      "metadata": {
        "id": "i-kHHRpDteb8"
      },
      "execution_count": 59,
      "outputs": []
    },
    {
      "cell_type": "code",
      "source": [
        " basic_rag_pipeline = Pipeline()"
      ],
      "metadata": {
        "id": "SHyd2Zf6t5xz"
      },
      "execution_count": 60,
      "outputs": []
    },
    {
      "cell_type": "code",
      "source": [
        "template = [\n",
        "    ChatMessage.from_user(\n",
        "        \"\"\"\n",
        "        Given the following information, answer the question.\n",
        "\n",
        "        context:\n",
        "        {% for document in documents %}\n",
        "        {{ document.content }}\n",
        "        {% endfor %}\n",
        "\n",
        "        Question: {{question}}\n",
        "        Answer:\n",
        "        \"\"\"\n",
        "    )\n",
        "]\n",
        "\n",
        "prompt_builder = ChatPromptBuilder(template = template)"
      ],
      "metadata": {
        "id": "OnzX9mmsvg_2"
      },
      "execution_count": null,
      "outputs": []
    },
    {
      "cell_type": "code",
      "source": [
        "basic_rag_pipeline.add_component(\"text_embedder\", query_embedder)\n",
        "\n",
        "basic_rag_pipeline.add_component(\"retriever\", retriever)\n",
        "\n",
        "basic_rag_pipeline.add_component(\"prompt_builder\", prompt_builder)\n",
        "\n",
        "basic_rag_pipeline.add_component(\"llm\", chat_generator)"
      ],
      "metadata": {
        "id": "8WNkJuC_s7y5"
      },
      "execution_count": 61,
      "outputs": []
    },
    {
      "cell_type": "code",
      "source": [
        "basic_rag_pipeline.connect(\"text_embedder.embedding\", \"retriever.query_embedding\")\n",
        "\n",
        "basic_rag_pipeline.connect(\"retriever\", \"prompt_builder\")\n",
        "\n",
        "basic_rag_pipeline.connect(\"prompt_builder.prompt\", \"llm.messages\")"
      ],
      "metadata": {
        "colab": {
          "base_uri": "https://localhost:8080/"
        },
        "id": "k_7-jsBFuEVT",
        "outputId": "9fe28ece-1319-4e68-a43c-0379816281d7"
      },
      "execution_count": 63,
      "outputs": [
        {
          "output_type": "execute_result",
          "data": {
            "text/plain": [
              "<haystack.core.pipeline.pipeline.Pipeline object at 0x7b0fbe08aed0>\n",
              "🚅 Components\n",
              "  - text_embedder: AzureOpenAITextEmbedder\n",
              "  - retriever: InMemoryEmbeddingRetriever\n",
              "  - prompt_builder: ChatPromptBuilder\n",
              "  - llm: AzureOpenAIChatGenerator\n",
              "🛤️ Connections\n",
              "  - text_embedder.embedding -> retriever.query_embedding (List[float])\n",
              "  - retriever.documents -> prompt_builder.documents (List[Document])\n",
              "  - prompt_builder.prompt -> llm.messages (List[ChatMessage])"
            ]
          },
          "metadata": {},
          "execution_count": 63
        }
      ]
    },
    {
      "cell_type": "markdown",
      "source": [
        "## question --> embedding --> retrieval --> prompt_builder --> llm --> answer generation"
      ],
      "metadata": {
        "id": "R7Oky7LVv6pf"
      }
    },
    {
      "cell_type": "code",
      "source": [
        "question = \"Tell me about Da Vinci\""
      ],
      "metadata": {
        "id": "7Ki8CNrQwNQz"
      },
      "execution_count": 68,
      "outputs": []
    },
    {
      "cell_type": "code",
      "source": [
        "response = basic_rag_pipeline.run({\"text_embedder\": {\"text\": question}, \"prompt_builder\": {\"question\": question}})"
      ],
      "metadata": {
        "id": "W4CxUGgBwR3q"
      },
      "execution_count": 69,
      "outputs": []
    },
    {
      "cell_type": "code",
      "source": [
        "response"
      ],
      "metadata": {
        "colab": {
          "base_uri": "https://localhost:8080/"
        },
        "id": "buwFdzAWwsB4",
        "outputId": "1e93a5a3-b3ba-4160-b0c8-35002044b1ea"
      },
      "execution_count": 70,
      "outputs": [
        {
          "output_type": "execute_result",
          "data": {
            "text/plain": [
              "{'text_embedder': {'meta': {'model': 'text-embedding-ada-002',\n",
              "   'usage': {'prompt_tokens': 5, 'total_tokens': 5}}},\n",
              " 'llm': {'replies': [ChatMessage(_role=<ChatRole.ASSISTANT: 'assistant'>, _content=[TextContent(text='Da Vinci was a famous artist and inventor during the Renaissance period. He is well known for works such as the Mona Lisa and The Last Supper, but also left behind numerous manuscript texts on various subjects such as anatomy, physics, and botany. Many of his works were not completed for various reasons, such as the Sforza Monument and the Battle of Anghiari wall painting. He had a great interest in studying and understanding the natural world, and his work has had a significant influence on both art and science.')], _name=None, _meta={'model': 'gpt-35-turbo', 'index': 0, 'finish_reason': 'stop', 'usage': {'completion_tokens': 105, 'prompt_tokens': 3550, 'total_tokens': 3655, 'completion_tokens_details': None, 'prompt_tokens_details': None}})]}}"
            ]
          },
          "metadata": {},
          "execution_count": 70
        }
      ]
    },
    {
      "cell_type": "code",
      "source": [
        "question = \"What are the famous paintings of Da vinci?\""
      ],
      "metadata": {
        "id": "Yg9eetbcw6l5"
      },
      "execution_count": 74,
      "outputs": []
    },
    {
      "cell_type": "code",
      "source": [
        "response = basic_rag_pipeline.run({\"text_embedder\": {\"text\": question}, \"prompt_builder\": {\"question\": question}})"
      ],
      "metadata": {
        "id": "-NyQ6pGHxAGr"
      },
      "execution_count": 75,
      "outputs": []
    },
    {
      "cell_type": "code",
      "source": [
        "response"
      ],
      "metadata": {
        "colab": {
          "base_uri": "https://localhost:8080/"
        },
        "id": "I_c21kLpxAjp",
        "outputId": "92140197-0cd9-4ce3-8275-3b1e6a6364d9"
      },
      "execution_count": 76,
      "outputs": [
        {
          "output_type": "execute_result",
          "data": {
            "text/plain": [
              "{'text_embedder': {'meta': {'model': 'text-embedding-ada-002',\n",
              "   'usage': {'prompt_tokens': 10, 'total_tokens': 10}}},\n",
              " 'llm': {'replies': [ChatMessage(_role=<ChatRole.ASSISTANT: 'assistant'>, _content=[TextContent(text='The three most important paintings by Da Vinci are the Sforza Monument and the Wall-painting of the Battle of Anghiari, which were never completed, and the painting of the Last Supper at Milan, which has suffered irreparable damage from decay and repeated restorations. However, he is also known for other paintings like the Adoration of the Magi (unfinished), La Vierge aux Rochers, and Mona Lisa.')], _name=None, _meta={'model': 'gpt-35-turbo', 'index': 0, 'finish_reason': 'stop', 'usage': {'completion_tokens': 88, 'prompt_tokens': 3186, 'total_tokens': 3274, 'completion_tokens_details': None, 'prompt_tokens_details': None}})]}}"
            ]
          },
          "metadata": {},
          "execution_count": 76
        }
      ]
    }
  ],
  "metadata": {
    "accelerator": "GPU",
    "colab": {
      "gpuType": "T4",
      "provenance": []
    },
    "kernelspec": {
      "display_name": "Python 3",
      "name": "python3"
    },
    "language_info": {
      "codemirror_mode": {
        "name": "ipython",
        "version": 3
      },
      "file_extension": ".py",
      "mimetype": "text/x-python",
      "name": "python",
      "nbconvert_exporter": "python",
      "pygments_lexer": "ipython3",
      "version": "3.9.6"
    },
    "orig_nbformat": 4,
    "vscode": {
      "interpreter": {
        "hash": "31f2aee4e71d21fbe5cf8b01ff0e069b9275f58929596ceb00d14d90e3e16cd6"
      }
    }
  },
  "nbformat": 4,
  "nbformat_minor": 0
}